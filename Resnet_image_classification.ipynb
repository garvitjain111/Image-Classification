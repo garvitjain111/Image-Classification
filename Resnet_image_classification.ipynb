{
  "metadata": {
    "kernelspec": {
      "language": "python",
      "display_name": "Python 3",
      "name": "python3"
    },
    "language_info": {
      "pygments_lexer": "ipython3",
      "nbconvert_exporter": "python",
      "version": "3.6.4",
      "file_extension": ".py",
      "codemirror_mode": {
        "name": "ipython",
        "version": 3
      },
      "name": "python",
      "mimetype": "text/x-python"
    },
    "colab": {
      "provenance": []
    },
    "accelerator": "GPU",
    "gpuClass": "standard",
    "widgets": {
      "application/vnd.jupyter.widget-state+json": {
        "af634e7662ff4c54b73b0ae02cc377bc": {
          "model_module": "@jupyter-widgets/controls",
          "model_name": "HBoxModel",
          "model_module_version": "1.5.0",
          "state": {
            "_dom_classes": [],
            "_model_module": "@jupyter-widgets/controls",
            "_model_module_version": "1.5.0",
            "_model_name": "HBoxModel",
            "_view_count": null,
            "_view_module": "@jupyter-widgets/controls",
            "_view_module_version": "1.5.0",
            "_view_name": "HBoxView",
            "box_style": "",
            "children": [
              "IPY_MODEL_4a711cbee2064440b4d7a6236700d460",
              "IPY_MODEL_1206542d08d5442cbbfc30b6915a3112",
              "IPY_MODEL_2540a26fe2d64ad69937c06947bc9fc3"
            ],
            "layout": "IPY_MODEL_889dac0804a94f909baeafad8173a226"
          }
        },
        "4a711cbee2064440b4d7a6236700d460": {
          "model_module": "@jupyter-widgets/controls",
          "model_name": "HTMLModel",
          "model_module_version": "1.5.0",
          "state": {
            "_dom_classes": [],
            "_model_module": "@jupyter-widgets/controls",
            "_model_module_version": "1.5.0",
            "_model_name": "HTMLModel",
            "_view_count": null,
            "_view_module": "@jupyter-widgets/controls",
            "_view_module_version": "1.5.0",
            "_view_name": "HTMLView",
            "description": "",
            "description_tooltip": null,
            "layout": "IPY_MODEL_b68d0eb50e414e0499f231d28122c5f4",
            "placeholder": "​",
            "style": "IPY_MODEL_0df00e36a12e4914b9919fba2483865b",
            "value": "100%"
          }
        },
        "1206542d08d5442cbbfc30b6915a3112": {
          "model_module": "@jupyter-widgets/controls",
          "model_name": "FloatProgressModel",
          "model_module_version": "1.5.0",
          "state": {
            "_dom_classes": [],
            "_model_module": "@jupyter-widgets/controls",
            "_model_module_version": "1.5.0",
            "_model_name": "FloatProgressModel",
            "_view_count": null,
            "_view_module": "@jupyter-widgets/controls",
            "_view_module_version": "1.5.0",
            "_view_name": "ProgressView",
            "bar_style": "success",
            "description": "",
            "description_tooltip": null,
            "layout": "IPY_MODEL_1b5e5e22a86e42a4aa6282cbe1398bd0",
            "max": 169001437,
            "min": 0,
            "orientation": "horizontal",
            "style": "IPY_MODEL_cb5a3462a7aa4346a58f9c040920ed2c",
            "value": 169001437
          }
        },
        "2540a26fe2d64ad69937c06947bc9fc3": {
          "model_module": "@jupyter-widgets/controls",
          "model_name": "HTMLModel",
          "model_module_version": "1.5.0",
          "state": {
            "_dom_classes": [],
            "_model_module": "@jupyter-widgets/controls",
            "_model_module_version": "1.5.0",
            "_model_name": "HTMLModel",
            "_view_count": null,
            "_view_module": "@jupyter-widgets/controls",
            "_view_module_version": "1.5.0",
            "_view_name": "HTMLView",
            "description": "",
            "description_tooltip": null,
            "layout": "IPY_MODEL_bd4a6a232525435ca6b2d06a8f3d34d8",
            "placeholder": "​",
            "style": "IPY_MODEL_5ad3e06542f2430aa71b9d74747afb22",
            "value": " 169001437/169001437 [00:05&lt;00:00, 33117641.41it/s]"
          }
        },
        "889dac0804a94f909baeafad8173a226": {
          "model_module": "@jupyter-widgets/base",
          "model_name": "LayoutModel",
          "model_module_version": "1.2.0",
          "state": {
            "_model_module": "@jupyter-widgets/base",
            "_model_module_version": "1.2.0",
            "_model_name": "LayoutModel",
            "_view_count": null,
            "_view_module": "@jupyter-widgets/base",
            "_view_module_version": "1.2.0",
            "_view_name": "LayoutView",
            "align_content": null,
            "align_items": null,
            "align_self": null,
            "border": null,
            "bottom": null,
            "display": null,
            "flex": null,
            "flex_flow": null,
            "grid_area": null,
            "grid_auto_columns": null,
            "grid_auto_flow": null,
            "grid_auto_rows": null,
            "grid_column": null,
            "grid_gap": null,
            "grid_row": null,
            "grid_template_areas": null,
            "grid_template_columns": null,
            "grid_template_rows": null,
            "height": null,
            "justify_content": null,
            "justify_items": null,
            "left": null,
            "margin": null,
            "max_height": null,
            "max_width": null,
            "min_height": null,
            "min_width": null,
            "object_fit": null,
            "object_position": null,
            "order": null,
            "overflow": null,
            "overflow_x": null,
            "overflow_y": null,
            "padding": null,
            "right": null,
            "top": null,
            "visibility": null,
            "width": null
          }
        },
        "b68d0eb50e414e0499f231d28122c5f4": {
          "model_module": "@jupyter-widgets/base",
          "model_name": "LayoutModel",
          "model_module_version": "1.2.0",
          "state": {
            "_model_module": "@jupyter-widgets/base",
            "_model_module_version": "1.2.0",
            "_model_name": "LayoutModel",
            "_view_count": null,
            "_view_module": "@jupyter-widgets/base",
            "_view_module_version": "1.2.0",
            "_view_name": "LayoutView",
            "align_content": null,
            "align_items": null,
            "align_self": null,
            "border": null,
            "bottom": null,
            "display": null,
            "flex": null,
            "flex_flow": null,
            "grid_area": null,
            "grid_auto_columns": null,
            "grid_auto_flow": null,
            "grid_auto_rows": null,
            "grid_column": null,
            "grid_gap": null,
            "grid_row": null,
            "grid_template_areas": null,
            "grid_template_columns": null,
            "grid_template_rows": null,
            "height": null,
            "justify_content": null,
            "justify_items": null,
            "left": null,
            "margin": null,
            "max_height": null,
            "max_width": null,
            "min_height": null,
            "min_width": null,
            "object_fit": null,
            "object_position": null,
            "order": null,
            "overflow": null,
            "overflow_x": null,
            "overflow_y": null,
            "padding": null,
            "right": null,
            "top": null,
            "visibility": null,
            "width": null
          }
        },
        "0df00e36a12e4914b9919fba2483865b": {
          "model_module": "@jupyter-widgets/controls",
          "model_name": "DescriptionStyleModel",
          "model_module_version": "1.5.0",
          "state": {
            "_model_module": "@jupyter-widgets/controls",
            "_model_module_version": "1.5.0",
            "_model_name": "DescriptionStyleModel",
            "_view_count": null,
            "_view_module": "@jupyter-widgets/base",
            "_view_module_version": "1.2.0",
            "_view_name": "StyleView",
            "description_width": ""
          }
        },
        "1b5e5e22a86e42a4aa6282cbe1398bd0": {
          "model_module": "@jupyter-widgets/base",
          "model_name": "LayoutModel",
          "model_module_version": "1.2.0",
          "state": {
            "_model_module": "@jupyter-widgets/base",
            "_model_module_version": "1.2.0",
            "_model_name": "LayoutModel",
            "_view_count": null,
            "_view_module": "@jupyter-widgets/base",
            "_view_module_version": "1.2.0",
            "_view_name": "LayoutView",
            "align_content": null,
            "align_items": null,
            "align_self": null,
            "border": null,
            "bottom": null,
            "display": null,
            "flex": null,
            "flex_flow": null,
            "grid_area": null,
            "grid_auto_columns": null,
            "grid_auto_flow": null,
            "grid_auto_rows": null,
            "grid_column": null,
            "grid_gap": null,
            "grid_row": null,
            "grid_template_areas": null,
            "grid_template_columns": null,
            "grid_template_rows": null,
            "height": null,
            "justify_content": null,
            "justify_items": null,
            "left": null,
            "margin": null,
            "max_height": null,
            "max_width": null,
            "min_height": null,
            "min_width": null,
            "object_fit": null,
            "object_position": null,
            "order": null,
            "overflow": null,
            "overflow_x": null,
            "overflow_y": null,
            "padding": null,
            "right": null,
            "top": null,
            "visibility": null,
            "width": null
          }
        },
        "cb5a3462a7aa4346a58f9c040920ed2c": {
          "model_module": "@jupyter-widgets/controls",
          "model_name": "ProgressStyleModel",
          "model_module_version": "1.5.0",
          "state": {
            "_model_module": "@jupyter-widgets/controls",
            "_model_module_version": "1.5.0",
            "_model_name": "ProgressStyleModel",
            "_view_count": null,
            "_view_module": "@jupyter-widgets/base",
            "_view_module_version": "1.2.0",
            "_view_name": "StyleView",
            "bar_color": null,
            "description_width": ""
          }
        },
        "bd4a6a232525435ca6b2d06a8f3d34d8": {
          "model_module": "@jupyter-widgets/base",
          "model_name": "LayoutModel",
          "model_module_version": "1.2.0",
          "state": {
            "_model_module": "@jupyter-widgets/base",
            "_model_module_version": "1.2.0",
            "_model_name": "LayoutModel",
            "_view_count": null,
            "_view_module": "@jupyter-widgets/base",
            "_view_module_version": "1.2.0",
            "_view_name": "LayoutView",
            "align_content": null,
            "align_items": null,
            "align_self": null,
            "border": null,
            "bottom": null,
            "display": null,
            "flex": null,
            "flex_flow": null,
            "grid_area": null,
            "grid_auto_columns": null,
            "grid_auto_flow": null,
            "grid_auto_rows": null,
            "grid_column": null,
            "grid_gap": null,
            "grid_row": null,
            "grid_template_areas": null,
            "grid_template_columns": null,
            "grid_template_rows": null,
            "height": null,
            "justify_content": null,
            "justify_items": null,
            "left": null,
            "margin": null,
            "max_height": null,
            "max_width": null,
            "min_height": null,
            "min_width": null,
            "object_fit": null,
            "object_position": null,
            "order": null,
            "overflow": null,
            "overflow_x": null,
            "overflow_y": null,
            "padding": null,
            "right": null,
            "top": null,
            "visibility": null,
            "width": null
          }
        },
        "5ad3e06542f2430aa71b9d74747afb22": {
          "model_module": "@jupyter-widgets/controls",
          "model_name": "DescriptionStyleModel",
          "model_module_version": "1.5.0",
          "state": {
            "_model_module": "@jupyter-widgets/controls",
            "_model_module_version": "1.5.0",
            "_model_name": "DescriptionStyleModel",
            "_view_count": null,
            "_view_module": "@jupyter-widgets/base",
            "_view_module_version": "1.2.0",
            "_view_name": "StyleView",
            "description_width": ""
          }
        }
      }
    }
  },
  "nbformat_minor": 0,
  "nbformat": 4,
  "cells": [
    {
      "cell_type": "markdown",
      "source": [
        "## Resnet Model Implementation using CIFAR-100 data set"
      ],
      "metadata": {
        "id": "OQoIozOLU6tv"
      }
    },
    {
      "cell_type": "markdown",
      "source": [
        "# Necessary Libraries"
      ],
      "metadata": {
        "id": "tXcmr9bn41ak"
      }
    },
    {
      "cell_type": "code",
      "source": [
        "import numpy as np\n",
        "import matplotlib.pyplot as plt\n",
        "import pandas as pd\n",
        "\n",
        "import torch\n",
        "import torchvision\n",
        "import torch.nn as nn\n",
        "import torch.nn.functional as F\n",
        "from torchvision.datasets import CIFAR100\n",
        "from torchvision.utils import make_grid\n",
        "from torch.utils.data.dataloader import DataLoader\n",
        "from torch.utils.data import random_split, ConcatDataset\n",
        "import torchvision.transforms as tt\n"
      ],
      "metadata": {
        "execution": {
          "iopub.status.busy": "2022-02-01T21:53:33.99018Z",
          "iopub.execute_input": "2022-02-01T21:53:33.990435Z",
          "iopub.status.idle": "2022-02-01T21:53:33.996757Z",
          "shell.execute_reply.started": "2022-02-01T21:53:33.990407Z",
          "shell.execute_reply": "2022-02-01T21:53:33.995966Z"
        },
        "trusted": true,
        "id": "ev6TwfLT41ak"
      },
      "execution_count": 1,
      "outputs": []
    },
    {
      "cell_type": "markdown",
      "source": [
        "____\n",
        "#### Before we load the data, it is required to first prepare the transformations to be applied. It is an important step to prepare the data for training to avoid overfitting problem.\n",
        "____"
      ],
      "metadata": {
        "id": "YCh2mWm141al"
      }
    },
    {
      "cell_type": "code",
      "source": [
        "stats = ((0.5074,0.4867,0.4411),(0.2011,0.1987,0.2025))\n",
        "train_transform = tt.Compose([\n",
        "    tt.RandomHorizontalFlip(),\n",
        "    tt.RandomCrop(32, padding=4, padding_mode=\"reflect\"),\n",
        "    tt.ToTensor(),\n",
        "    tt.Normalize(*stats)\n",
        "])\n",
        "\n",
        "test_transform = tt.Compose([\n",
        "    tt.ToTensor(),\n",
        "    tt.Normalize(*stats)\n",
        "])"
      ],
      "metadata": {
        "execution": {
          "iopub.status.busy": "2022-02-01T21:53:35.150283Z",
          "iopub.execute_input": "2022-02-01T21:53:35.150932Z",
          "iopub.status.idle": "2022-02-01T21:53:35.15624Z",
          "shell.execute_reply.started": "2022-02-01T21:53:35.150894Z",
          "shell.execute_reply": "2022-02-01T21:53:35.155583Z"
        },
        "trusted": true,
        "id": "FlMaeUjl41al"
      },
      "execution_count": 2,
      "outputs": []
    },
    {
      "cell_type": "markdown",
      "source": [
        "___\n",
        "RandomHorizontalFlip randomly flips an image with a probability of 50%, and RandomCrop pads an image by 4 pixel on each side then randomly crops 32x32 from the image after padding. We add such transformations to add noise to the data and prevent our model from overfitting. There are also other transformations you can use such as ColorJitter and RandomVerticalFlip etc. but I found these to be sufficient for our purposes. <br />\n",
        "\n",
        "ToTensor simply converts the image to a Tensor. Since its a coloured image, it would have 3 channels (R,G,B) so the Tensor would be of size 3x32x32. <br/>\n",
        "\n",
        "Normalize takes the mean and standard deviation for each channel of the entire dataset as input. Normalizing scales our data to a similar range of values to make sure that our gradients don’t go out of control.\n",
        "Now we just prepare our train and test dataset and then we can explore the data.\n",
        "___"
      ],
      "metadata": {
        "id": "05WhK79341al"
      }
    },
    {
      "cell_type": "markdown",
      "source": [
        "# Loading Data"
      ],
      "metadata": {
        "id": "X0X_llB_41al"
      }
    },
    {
      "cell_type": "code",
      "source": [
        "train_data = CIFAR100(download=True, root=\"./data\", transform=train_transform)\n",
        "test_data = CIFAR100(root=\"./data\", train=False, transform=test_transform)"
      ],
      "metadata": {
        "execution": {
          "iopub.status.busy": "2022-02-01T21:53:37.365959Z",
          "iopub.execute_input": "2022-02-01T21:53:37.366728Z",
          "iopub.status.idle": "2022-02-01T21:53:44.55739Z",
          "shell.execute_reply.started": "2022-02-01T21:53:37.366669Z",
          "shell.execute_reply": "2022-02-01T21:53:44.55662Z"
        },
        "trusted": true,
        "colab": {
          "base_uri": "https://localhost:8080/",
          "height": 85,
          "referenced_widgets": [
            "af634e7662ff4c54b73b0ae02cc377bc",
            "4a711cbee2064440b4d7a6236700d460",
            "1206542d08d5442cbbfc30b6915a3112",
            "2540a26fe2d64ad69937c06947bc9fc3",
            "889dac0804a94f909baeafad8173a226",
            "b68d0eb50e414e0499f231d28122c5f4",
            "0df00e36a12e4914b9919fba2483865b",
            "1b5e5e22a86e42a4aa6282cbe1398bd0",
            "cb5a3462a7aa4346a58f9c040920ed2c",
            "bd4a6a232525435ca6b2d06a8f3d34d8",
            "5ad3e06542f2430aa71b9d74747afb22"
          ]
        },
        "id": "C5F34OQs41am",
        "outputId": "47548c02-e10c-4e14-86a2-59b2bc9869c0"
      },
      "execution_count": 3,
      "outputs": [
        {
          "output_type": "stream",
          "name": "stdout",
          "text": [
            "Downloading https://www.cs.toronto.edu/~kriz/cifar-100-python.tar.gz to ./data/cifar-100-python.tar.gz\n"
          ]
        },
        {
          "output_type": "display_data",
          "data": {
            "text/plain": [
              "  0%|          | 0/169001437 [00:00<?, ?it/s]"
            ],
            "application/vnd.jupyter.widget-view+json": {
              "version_major": 2,
              "version_minor": 0,
              "model_id": "af634e7662ff4c54b73b0ae02cc377bc"
            }
          },
          "metadata": {}
        },
        {
          "output_type": "stream",
          "name": "stdout",
          "text": [
            "Extracting ./data/cifar-100-python.tar.gz to ./data\n"
          ]
        }
      ]
    },
    {
      "cell_type": "markdown",
      "source": [
        "_____"
      ],
      "metadata": {
        "id": "5G3c8C-b41am"
      }
    },
    {
      "cell_type": "code",
      "source": [
        "for image, label in train_data:\n",
        "    print(\"Image shape: \",image.shape)\n",
        "    print(\"Image tensor: \", image)\n",
        "    print(\"Label: \", label)\n",
        "    break"
      ],
      "metadata": {
        "execution": {
          "iopub.status.busy": "2022-02-01T21:53:44.559272Z",
          "iopub.execute_input": "2022-02-01T21:53:44.559547Z",
          "iopub.status.idle": "2022-02-01T21:53:44.6441Z",
          "shell.execute_reply.started": "2022-02-01T21:53:44.559515Z",
          "shell.execute_reply": "2022-02-01T21:53:44.643226Z"
        },
        "trusted": true,
        "colab": {
          "base_uri": "https://localhost:8080/"
        },
        "id": "tfiij0Xe41am",
        "outputId": "37a87c6e-3e5f-4156-d239-674fb774be24"
      },
      "execution_count": 4,
      "outputs": [
        {
          "output_type": "stream",
          "name": "stdout",
          "text": [
            "Image shape:  torch.Size([3, 32, 32])\n",
            "Image tensor:  tensor([[[ 0.7335,  1.2210,  1.6110,  ...,  2.4495,  2.4300,  2.4495],\n",
            "         [ 1.1625,  1.2405,  1.7670,  ...,  2.4495,  2.4300,  2.4495],\n",
            "         [ 0.7920,  1.3380,  1.6890,  ...,  2.4495,  2.4300,  2.4300],\n",
            "         ...,\n",
            "         [-1.0411, -0.5731, -0.2416,  ...,  0.7920,  0.7140,  0.7530],\n",
            "         [-1.0996, -0.4756, -0.1050,  ...,  0.6750,  0.8115,  1.0260],\n",
            "         [-1.5676, -1.0216, -0.2026,  ...,  0.4605,  0.5970,  0.5580]],\n",
            "\n",
            "        [[ 1.1228,  1.5767,  1.8136,  ...,  2.5833,  2.5636,  2.5833],\n",
            "         [ 1.4781,  1.6557,  2.1294,  ...,  2.5833,  2.5636,  2.5833],\n",
            "         [ 1.0241,  1.7149,  2.0307,  ...,  2.5833,  2.5636,  2.5636],\n",
            "         ...,\n",
            "         [-1.3245, -0.8903, -0.4758,  ...,  1.6557,  1.5767,  1.6360],\n",
            "         [-1.3442, -0.7324, -0.2982,  ...,  1.5767,  1.7149,  1.8925],\n",
            "         [-1.7784, -1.2258, -0.3179,  ...,  1.3794,  1.5373,  1.4781]],\n",
            "\n",
            "        [[ 0.4361,  1.1526,  1.5593,  ...,  2.7600,  2.7406,  2.7600],\n",
            "         [ 1.0945,  1.4044,  2.1209,  ...,  2.7600,  2.7406,  2.7600],\n",
            "         [ 0.7266,  1.5787,  2.1209,  ...,  2.7600,  2.7406,  2.7406],\n",
            "         ...,\n",
            "         [-1.7329, -1.2681, -0.9776,  ..., -0.3579, -0.3966, -0.3579],\n",
            "         [-1.6748, -1.0163, -0.7258,  ..., -0.5709, -0.3966, -0.0480],\n",
            "         [-2.0233, -1.5392, -0.8227,  ..., -0.9195, -0.9389, -0.8420]]])\n",
            "Label:  19\n"
          ]
        }
      ]
    },
    {
      "cell_type": "code",
      "source": [
        "train_classes_items = dict()\n",
        "\n",
        "for train_item in train_data:\n",
        "    label = train_data.classes[train_item[1]]\n",
        "    if label not in train_classes_items:\n",
        "        train_classes_items[label] = 1\n",
        "    else:\n",
        "        train_classes_items[label] += 1\n",
        "\n",
        "train_classes_items"
      ],
      "metadata": {
        "execution": {
          "iopub.status.busy": "2022-02-01T21:53:44.645543Z",
          "iopub.execute_input": "2022-02-01T21:53:44.645824Z",
          "iopub.status.idle": "2022-02-01T21:54:09.731865Z",
          "shell.execute_reply.started": "2022-02-01T21:53:44.64579Z",
          "shell.execute_reply": "2022-02-01T21:54:09.731076Z"
        },
        "trusted": true,
        "colab": {
          "base_uri": "https://localhost:8080/"
        },
        "id": "Hd7pm5He41am",
        "outputId": "d997a5d8-9d56-416c-9093-55ba0375df4b"
      },
      "execution_count": 5,
      "outputs": [
        {
          "output_type": "execute_result",
          "data": {
            "text/plain": [
              "{'cattle': 500,\n",
              " 'dinosaur': 500,\n",
              " 'apple': 500,\n",
              " 'boy': 500,\n",
              " 'aquarium_fish': 500,\n",
              " 'telephone': 500,\n",
              " 'train': 500,\n",
              " 'cup': 500,\n",
              " 'cloud': 500,\n",
              " 'elephant': 500,\n",
              " 'keyboard': 500,\n",
              " 'willow_tree': 500,\n",
              " 'sunflower': 500,\n",
              " 'castle': 500,\n",
              " 'sea': 500,\n",
              " 'bicycle': 500,\n",
              " 'wolf': 500,\n",
              " 'squirrel': 500,\n",
              " 'shrew': 500,\n",
              " 'pine_tree': 500,\n",
              " 'rose': 500,\n",
              " 'television': 500,\n",
              " 'table': 500,\n",
              " 'possum': 500,\n",
              " 'oak_tree': 500,\n",
              " 'leopard': 500,\n",
              " 'maple_tree': 500,\n",
              " 'rabbit': 500,\n",
              " 'chimpanzee': 500,\n",
              " 'clock': 500,\n",
              " 'streetcar': 500,\n",
              " 'cockroach': 500,\n",
              " 'snake': 500,\n",
              " 'lobster': 500,\n",
              " 'mountain': 500,\n",
              " 'palm_tree': 500,\n",
              " 'skyscraper': 500,\n",
              " 'tractor': 500,\n",
              " 'shark': 500,\n",
              " 'butterfly': 500,\n",
              " 'bottle': 500,\n",
              " 'bee': 500,\n",
              " 'chair': 500,\n",
              " 'woman': 500,\n",
              " 'hamster': 500,\n",
              " 'otter': 500,\n",
              " 'seal': 500,\n",
              " 'lion': 500,\n",
              " 'mushroom': 500,\n",
              " 'girl': 500,\n",
              " 'sweet_pepper': 500,\n",
              " 'forest': 500,\n",
              " 'crocodile': 500,\n",
              " 'orange': 500,\n",
              " 'tulip': 500,\n",
              " 'mouse': 500,\n",
              " 'camel': 500,\n",
              " 'caterpillar': 500,\n",
              " 'man': 500,\n",
              " 'skunk': 500,\n",
              " 'kangaroo': 500,\n",
              " 'raccoon': 500,\n",
              " 'snail': 500,\n",
              " 'rocket': 500,\n",
              " 'whale': 500,\n",
              " 'worm': 500,\n",
              " 'turtle': 500,\n",
              " 'beaver': 500,\n",
              " 'plate': 500,\n",
              " 'wardrobe': 500,\n",
              " 'road': 500,\n",
              " 'fox': 500,\n",
              " 'flatfish': 500,\n",
              " 'tiger': 500,\n",
              " 'ray': 500,\n",
              " 'dolphin': 500,\n",
              " 'poppy': 500,\n",
              " 'porcupine': 500,\n",
              " 'lamp': 500,\n",
              " 'crab': 500,\n",
              " 'motorcycle': 500,\n",
              " 'spider': 500,\n",
              " 'tank': 500,\n",
              " 'orchid': 500,\n",
              " 'lizard': 500,\n",
              " 'beetle': 500,\n",
              " 'bridge': 500,\n",
              " 'baby': 500,\n",
              " 'lawn_mower': 500,\n",
              " 'house': 500,\n",
              " 'bus': 500,\n",
              " 'couch': 500,\n",
              " 'bowl': 500,\n",
              " 'pear': 500,\n",
              " 'bed': 500,\n",
              " 'plain': 500,\n",
              " 'trout': 500,\n",
              " 'bear': 500,\n",
              " 'pickup_truck': 500,\n",
              " 'can': 500}"
            ]
          },
          "metadata": {},
          "execution_count": 5
        }
      ]
    },
    {
      "cell_type": "code",
      "source": [
        "test_classes_items = dict()\n",
        "for test_item in test_data:\n",
        "    label = test_data.classes[test_item[1]]\n",
        "    if label not in test_classes_items:\n",
        "        test_classes_items[label] = 1\n",
        "    else:\n",
        "        test_classes_items[label] += 1\n",
        "\n",
        "test_classes_items"
      ],
      "metadata": {
        "execution": {
          "iopub.status.busy": "2022-02-01T21:54:09.733969Z",
          "iopub.execute_input": "2022-02-01T21:54:09.734213Z",
          "iopub.status.idle": "2022-02-01T21:54:11.345078Z",
          "shell.execute_reply.started": "2022-02-01T21:54:09.73418Z",
          "shell.execute_reply": "2022-02-01T21:54:11.344413Z"
        },
        "trusted": true,
        "colab": {
          "base_uri": "https://localhost:8080/"
        },
        "id": "4t5Bgnlo41am",
        "outputId": "1d356c51-f61c-4489-95fb-d4db13bbc496"
      },
      "execution_count": 6,
      "outputs": [
        {
          "output_type": "execute_result",
          "data": {
            "text/plain": [
              "{'mountain': 100,\n",
              " 'forest': 100,\n",
              " 'seal': 100,\n",
              " 'mushroom': 100,\n",
              " 'sea': 100,\n",
              " 'tulip': 100,\n",
              " 'camel': 100,\n",
              " 'butterfly': 100,\n",
              " 'cloud': 100,\n",
              " 'apple': 100,\n",
              " 'skunk': 100,\n",
              " 'streetcar': 100,\n",
              " 'rocket': 100,\n",
              " 'lamp': 100,\n",
              " 'lion': 100,\n",
              " 'wolf': 100,\n",
              " 'rose': 100,\n",
              " 'orange': 100,\n",
              " 'dinosaur': 100,\n",
              " 'chimpanzee': 100,\n",
              " 'can': 100,\n",
              " 'keyboard': 100,\n",
              " 'bicycle': 100,\n",
              " 'chair': 100,\n",
              " 'plate': 100,\n",
              " 'lawn_mower': 100,\n",
              " 'turtle': 100,\n",
              " 'palm_tree': 100,\n",
              " 'shark': 100,\n",
              " 'pickup_truck': 100,\n",
              " 'boy': 100,\n",
              " 'couch': 100,\n",
              " 'house': 100,\n",
              " 'porcupine': 100,\n",
              " 'cockroach': 100,\n",
              " 'clock': 100,\n",
              " 'castle': 100,\n",
              " 'beaver': 100,\n",
              " 'bee': 100,\n",
              " 'bottle': 100,\n",
              " 'pear': 100,\n",
              " 'baby': 100,\n",
              " 'flatfish': 100,\n",
              " 'oak_tree': 100,\n",
              " 'leopard': 100,\n",
              " 'snail': 100,\n",
              " 'crocodile': 100,\n",
              " 'rabbit': 100,\n",
              " 'beetle': 100,\n",
              " 'girl': 100,\n",
              " 'sunflower': 100,\n",
              " 'raccoon': 100,\n",
              " 'train': 100,\n",
              " 'ray': 100,\n",
              " 'trout': 100,\n",
              " 'bowl': 100,\n",
              " 'snake': 100,\n",
              " 'orchid': 100,\n",
              " 'tractor': 100,\n",
              " 'caterpillar': 100,\n",
              " 'bus': 100,\n",
              " 'mouse': 100,\n",
              " 'crab': 100,\n",
              " 'sweet_pepper': 100,\n",
              " 'maple_tree': 100,\n",
              " 'whale': 100,\n",
              " 'skyscraper': 100,\n",
              " 'pine_tree': 100,\n",
              " 'tank': 100,\n",
              " 'cattle': 100,\n",
              " 'man': 100,\n",
              " 'aquarium_fish': 100,\n",
              " 'shrew': 100,\n",
              " 'plain': 100,\n",
              " 'possum': 100,\n",
              " 'lobster': 100,\n",
              " 'hamster': 100,\n",
              " 'television': 100,\n",
              " 'dolphin': 100,\n",
              " 'worm': 100,\n",
              " 'squirrel': 100,\n",
              " 'cup': 100,\n",
              " 'woman': 100,\n",
              " 'bridge': 100,\n",
              " 'wardrobe': 100,\n",
              " 'road': 100,\n",
              " 'lizard': 100,\n",
              " 'elephant': 100,\n",
              " 'spider': 100,\n",
              " 'fox': 100,\n",
              " 'otter': 100,\n",
              " 'poppy': 100,\n",
              " 'willow_tree': 100,\n",
              " 'table': 100,\n",
              " 'kangaroo': 100,\n",
              " 'telephone': 100,\n",
              " 'bed': 100,\n",
              " 'motorcycle': 100,\n",
              " 'bear': 100,\n",
              " 'tiger': 100}"
            ]
          },
          "metadata": {},
          "execution_count": 6
        }
      ]
    },
    {
      "cell_type": "markdown",
      "source": [
        "# BATCHSIZE & DataLoader"
      ],
      "metadata": {
        "id": "gzBjhP7t41am"
      }
    },
    {
      "cell_type": "code",
      "source": [
        "BATCH_SIZE = 128\n",
        "train_dl = DataLoader(train_data, BATCH_SIZE, num_workers=4, pin_memory=True, shuffle=True)\n",
        "test_dl = DataLoader(test_data, BATCH_SIZE, num_workers=4, pin_memory=True)"
      ],
      "metadata": {
        "execution": {
          "iopub.status.busy": "2022-02-01T21:54:11.346627Z",
          "iopub.execute_input": "2022-02-01T21:54:11.347035Z",
          "iopub.status.idle": "2022-02-01T21:54:11.356147Z",
          "shell.execute_reply.started": "2022-02-01T21:54:11.346993Z",
          "shell.execute_reply": "2022-02-01T21:54:11.355133Z"
        },
        "_kg_hide-output": true,
        "collapsed": true,
        "jupyter": {
          "outputs_hidden": true
        },
        "trusted": true,
        "colab": {
          "base_uri": "https://localhost:8080/"
        },
        "id": "oHzig73Q41an",
        "outputId": "8bdf4ec1-c7eb-4258-ebb5-41648b6c2e5c"
      },
      "execution_count": 7,
      "outputs": [
        {
          "output_type": "stream",
          "name": "stderr",
          "text": [
            "/usr/local/lib/python3.7/dist-packages/torch/utils/data/dataloader.py:566: UserWarning: This DataLoader will create 4 worker processes in total. Our suggested max number of worker in current system is 2, which is smaller than what this DataLoader is going to create. Please be aware that excessive worker creation might get DataLoader running slow or even freeze, lower the worker number to avoid potential slowness/freeze if necessary.\n",
            "  cpuset_checked))\n"
          ]
        }
      ]
    },
    {
      "cell_type": "markdown",
      "source": [
        "# Visualization"
      ],
      "metadata": {
        "id": "GMuDzvpN41an"
      }
    },
    {
      "cell_type": "code",
      "source": [
        "# for 8 images\n",
        "train_8_samples = DataLoader(train_data, 8, num_workers=4, pin_memory=True, shuffle=True)\n",
        "\n",
        "def imshow(img):\n",
        "    img = img / 2 + 0.5     # unnormalize\n",
        "    npimg = img.numpy()\n",
        "    plt.figure(figsize = (20,20))\n",
        "    plt.imshow(np.transpose(npimg, (1, 2, 0)))\n",
        "    plt.show()\n",
        "\n",
        "dataiter = iter(train_8_samples)\n",
        "images, labels = dataiter.next()\n",
        "\n",
        "# print images\n",
        "imshow(torchvision.utils.make_grid(images))\n",
        "print(''.join(f'{train_data.classes[labels[j]]:20s}' for j in range(8)))"
      ],
      "metadata": {
        "execution": {
          "iopub.status.busy": "2022-02-01T21:54:22.027531Z",
          "iopub.execute_input": "2022-02-01T21:54:22.027969Z",
          "iopub.status.idle": "2022-02-01T21:54:25.970127Z",
          "shell.execute_reply.started": "2022-02-01T21:54:22.027931Z",
          "shell.execute_reply": "2022-02-01T21:54:25.969314Z"
        },
        "trusted": true,
        "colab": {
          "base_uri": "https://localhost:8080/",
          "height": 232
        },
        "id": "kQkP3CSn41an",
        "outputId": "6331f72e-0d4e-4807-9ab2-63447cb90e07"
      },
      "execution_count": 8,
      "outputs": [
        {
          "output_type": "stream",
          "name": "stderr",
          "text": [
            "WARNING:matplotlib.image:Clipping input data to the valid range for imshow with RGB data ([0..1] for floats or [0..255] for integers).\n"
          ]
        },
        {
          "output_type": "display_data",
          "data": {
            "text/plain": [
              "<Figure size 1440x1440 with 1 Axes>"
            ],
            "image/png": "[encoded data removed]"
          },
          "metadata": {
            "needs_background": "light"
          }
        },
        {
          "output_type": "stream",
          "name": "stdout",
          "text": [
            "porcupine           orange              cattle              trout               couch               seal                oak_tree            butterfly           \n"
          ]
        }
      ]
    },
    {
      "cell_type": "markdown",
      "source": [
        "# Get CUDA ready"
      ],
      "metadata": {
        "id": "-0U8Xexc41an"
      }
    },
    {
      "cell_type": "code",
      "source": [
        "def get_device():\n",
        "    if torch.cuda.is_available():\n",
        "        return torch.device(\"cuda\")\n",
        "    return torch.device(\"cpu\")\n",
        "\n",
        "def to_device(data,device):\n",
        "    if isinstance(data,(list,tuple)):\n",
        "        return [to_device(x,device) for x in data]\n",
        "    return data.to(device,non_blocking=True)\n",
        "\n",
        "\n",
        "class ToDeviceLoader:\n",
        "    def __init__(self,data,device):\n",
        "        self.data = data\n",
        "        self.device = device\n",
        "        \n",
        "    def __iter__(self):\n",
        "        for batch in self.data:\n",
        "            yield to_device(batch,self.device)\n",
        "            \n",
        "    def __len__(self):\n",
        "        return len(self.data)\n"
      ],
      "metadata": {
        "execution": {
          "iopub.status.busy": "2022-02-01T21:54:25.972557Z",
          "iopub.execute_input": "2022-02-01T21:54:25.973543Z",
          "iopub.status.idle": "2022-02-01T21:54:25.981838Z",
          "shell.execute_reply.started": "2022-02-01T21:54:25.973492Z",
          "shell.execute_reply": "2022-02-01T21:54:25.980906Z"
        },
        "trusted": true,
        "id": "t-1qEJxe41an"
      },
      "execution_count": 9,
      "outputs": []
    },
    {
      "cell_type": "code",
      "source": [
        "device = get_device()\n",
        "print(device)\n",
        "\n",
        "train_dl = ToDeviceLoader(train_dl, device)\n",
        "test_dl = ToDeviceLoader(test_dl, device)"
      ],
      "metadata": {
        "execution": {
          "iopub.status.busy": "2022-02-01T21:54:32.043782Z",
          "iopub.execute_input": "2022-02-01T21:54:32.044336Z",
          "iopub.status.idle": "2022-02-01T21:54:32.049687Z",
          "shell.execute_reply.started": "2022-02-01T21:54:32.044287Z",
          "shell.execute_reply": "2022-02-01T21:54:32.04853Z"
        },
        "trusted": true,
        "colab": {
          "base_uri": "https://localhost:8080/"
        },
        "id": "ToYIBuWH41an",
        "outputId": "7fdbd232-1e6f-49d7-f21f-dcc748baecc4"
      },
      "execution_count": 10,
      "outputs": [
        {
          "output_type": "stream",
          "name": "stdout",
          "text": [
            "cuda\n"
          ]
        }
      ]
    },
    {
      "cell_type": "code",
      "source": [
        "def accuracy(predicted, actual):\n",
        "    _, predictions = torch.max(predicted, dim=1)\n",
        "    return torch.tensor(torch.sum(predictions==actual).item()/len(predictions))"
      ],
      "metadata": {
        "execution": {
          "iopub.status.busy": "2022-02-01T21:54:32.31823Z",
          "iopub.execute_input": "2022-02-01T21:54:32.318917Z",
          "iopub.status.idle": "2022-02-01T21:54:32.325859Z",
          "shell.execute_reply.started": "2022-02-01T21:54:32.31888Z",
          "shell.execute_reply": "2022-02-01T21:54:32.325123Z"
        },
        "trusted": true,
        "id": "BB_Qrjd_41an"
      },
      "execution_count": 11,
      "outputs": []
    },
    {
      "cell_type": "markdown",
      "source": [
        "# BaseModel"
      ],
      "metadata": {
        "id": "xKtvWUO741an"
      }
    },
    {
      "cell_type": "code",
      "source": [
        "class BaseModel(nn.Module):\n",
        "    def training_step(self,batch):\n",
        "        images, labels = batch\n",
        "        out = self(images)\n",
        "        loss = F.cross_entropy(out,labels)\n",
        "        return loss\n",
        "    \n",
        "    def validation_step(self,batch):\n",
        "        images, labels = batch\n",
        "        out = self(images)\n",
        "        loss = F.cross_entropy(out,labels)\n",
        "        acc = accuracy(out,labels)\n",
        "        return {\"val_loss\":loss.detach(),\"val_acc\":acc}\n",
        "    \n",
        "    def validation_epoch_end(self,outputs):\n",
        "        batch_losses = [loss[\"val_loss\"] for loss in outputs]\n",
        "        loss = torch.stack(batch_losses).mean()\n",
        "        batch_accuracy = [accuracy[\"val_acc\"] for accuracy in outputs]\n",
        "        acc = torch.stack(batch_accuracy).mean()\n",
        "        return {\"val_loss\":loss.item(),\"val_acc\":acc.item()}\n",
        "    \n",
        "    def epoch_end(self, epoch, result):\n",
        "        print(\"Epoch [{}], last_lr: {:.5f}, train_loss: {:.4f}, val_loss: {:.4f}, val_acc: {:.4f}\".format(\n",
        "            epoch, result['lrs'][-1], result['train_loss'], result['val_loss'], result['val_acc']))"
      ],
      "metadata": {
        "execution": {
          "iopub.status.busy": "2022-02-01T21:54:32.897355Z",
          "iopub.execute_input": "2022-02-01T21:54:32.897969Z",
          "iopub.status.idle": "2022-02-01T21:54:32.906922Z",
          "shell.execute_reply.started": "2022-02-01T21:54:32.897935Z",
          "shell.execute_reply": "2022-02-01T21:54:32.906077Z"
        },
        "trusted": true,
        "id": "VSnseEQY41an"
      },
      "execution_count": 12,
      "outputs": []
    },
    {
      "cell_type": "markdown",
      "source": [
        "# ResNet Implementation\n",
        "\n",
        "____\n",
        "\n"
      ],
      "metadata": {
        "id": "swwagT8F41ao"
      }
    },
    {
      "cell_type": "code",
      "source": [
        "def conv_shortcut(in_channel, out_channel, stride):\n",
        "    layers = [nn.Conv2d(in_channel, out_channel, kernel_size=(1,1), stride=(stride, stride)),\n",
        "             nn.BatchNorm2d(out_channel)]\n",
        "    return nn.Sequential(*layers)\n",
        "\n",
        "def block(in_channel, out_channel, k_size,stride, conv=False):\n",
        "    layers = None\n",
        "    \n",
        "    first_layers = [nn.Conv2d(in_channel,out_channel[0], kernel_size=(1,1),stride=(1,1)),\n",
        "                    nn.BatchNorm2d(out_channel[0]),\n",
        "                    nn.ReLU(inplace=True)]\n",
        "    if conv:\n",
        "        first_layers[0].stride=(stride,stride)\n",
        "    \n",
        "    second_layers = [nn.Conv2d(out_channel[0], out_channel[1], kernel_size=(k_size, k_size), stride=(1,1), padding=1),\n",
        "                    nn.BatchNorm2d(out_channel[1])]\n",
        "\n",
        "    layers = first_layers + second_layers\n",
        "    \n",
        "    return nn.Sequential(*layers)\n",
        "    \n",
        "\n",
        "class ResNet(BaseModel):\n",
        "    \n",
        "    def __init__(self, in_channels, num_classes):\n",
        "        super().__init__()\n",
        "        \n",
        "        self.stg1 = nn.Sequential(\n",
        "                                   nn.Conv2d(in_channels=in_channels, out_channels=64, kernel_size=(3),\n",
        "                                             stride=(1), padding=1),\n",
        "                                   nn.BatchNorm2d(64),\n",
        "                                   nn.ReLU(inplace=True),\n",
        "                                   nn.MaxPool2d(kernel_size=3, stride=2))\n",
        "        \n",
        "        ##stage 2\n",
        "        self.convShortcut2 = conv_shortcut(64,256,1)\n",
        "        \n",
        "        self.conv2 = block(64,[64,256],3,1,conv=True)\n",
        "        self.ident2 = block(256,[64,256],3,1)\n",
        "\n",
        "        \n",
        "        ##stage 3\n",
        "        self.convShortcut3 = conv_shortcut(256,512,2)\n",
        "        \n",
        "        self.conv3 = block(256,[128,512],3,2,conv=True)\n",
        "        self.ident3 = block(512,[128,512],3,2)\n",
        "\n",
        "        \n",
        "        ##stage 4\n",
        "        self.convShortcut4 = conv_shortcut(512,1024,2)\n",
        "        \n",
        "        self.conv4 = block(512,[256,1024],3,2,conv=True)\n",
        "        self.ident4 = block(1024,[256,1024],3,2)\n",
        "        \n",
        "        \n",
        "        ##Classify\n",
        "        self.classifier = nn.Sequential(\n",
        "                                       nn.AvgPool2d(kernel_size=(4)),\n",
        "                                       nn.Flatten(),\n",
        "                                       nn.Linear(1024, num_classes))\n",
        "        \n",
        "    def forward(self,inputs):\n",
        "        out = self.stg1(inputs)\n",
        "        \n",
        "        #stage 2\n",
        "        out = F.relu(self.conv2(out) + self.convShortcut2(out))\n",
        "        out = F.relu(self.ident2(out) + out)\n",
        "        out = F.relu(self.ident2(out) + out)\n",
        "        out = F.relu(self.ident2(out) + out)\n",
        "        \n",
        "        #stage3\n",
        "        out = F.relu(self.conv3(out) + (self.convShortcut3(out)))\n",
        "        out = F.relu(self.ident3(out) + out)\n",
        "        out = F.relu(self.ident3(out) + out)\n",
        "        out = F.relu(self.ident3(out) + out)\n",
        "        out = F.relu(self.ident3(out) + out)\n",
        "        \n",
        "        #stage4             \n",
        "        out = F.relu(self.conv4(out) + (self.convShortcut4(out)))\n",
        "        out = F.relu(self.ident4(out) + out)\n",
        "        out = F.relu(self.ident4(out) + out)\n",
        "        out = F.relu(self.ident4(out) + out)\n",
        "        out = F.relu(self.ident4(out) + out)\n",
        "        out = F.relu(self.ident4(out) + out)\n",
        "        out = F.relu(self.ident4(out) + out)\n",
        "        \n",
        "        #Classify\n",
        "        out = self.classifier(out)#100x1024\n",
        "        \n",
        "        return out\n",
        "        "
      ],
      "metadata": {
        "execution": {
          "iopub.status.busy": "2022-02-01T21:59:14.205187Z",
          "iopub.execute_input": "2022-02-01T21:59:14.205463Z",
          "iopub.status.idle": "2022-02-01T21:59:14.226992Z",
          "shell.execute_reply.started": "2022-02-01T21:59:14.205432Z",
          "shell.execute_reply": "2022-02-01T21:59:14.225387Z"
        },
        "trusted": true,
        "id": "dCrNFTSR41ao"
      },
      "execution_count": 13,
      "outputs": []
    },
    {
      "cell_type": "code",
      "source": [
        "model = ResNet(3,100)"
      ],
      "metadata": {
        "execution": {
          "iopub.status.busy": "2022-02-01T21:59:15.556796Z",
          "iopub.execute_input": "2022-02-01T21:59:15.557232Z",
          "iopub.status.idle": "2022-02-01T21:59:15.626997Z",
          "shell.execute_reply.started": "2022-02-01T21:59:15.557198Z",
          "shell.execute_reply": "2022-02-01T21:59:15.626234Z"
        },
        "trusted": true,
        "id": "th16inaa41ao"
      },
      "execution_count": 14,
      "outputs": []
    },
    {
      "cell_type": "code",
      "source": [
        "model = to_device(model, device)"
      ],
      "metadata": {
        "execution": {
          "iopub.status.busy": "2022-02-01T21:59:16.052427Z",
          "iopub.execute_input": "2022-02-01T21:59:16.053204Z",
          "iopub.status.idle": "2022-02-01T21:59:16.069408Z",
          "shell.execute_reply.started": "2022-02-01T21:59:16.05316Z",
          "shell.execute_reply": "2022-02-01T21:59:16.068637Z"
        },
        "trusted": true,
        "id": "uH1NJ19J41ao"
      },
      "execution_count": 15,
      "outputs": []
    },
    {
      "cell_type": "markdown",
      "source": [
        "# Evaluation & Fit Function for Training"
      ],
      "metadata": {
        "id": "F97KXYFl41ao"
      }
    },
    {
      "cell_type": "code",
      "source": [
        "@torch.no_grad()\n",
        "def evaluate(model,test_dl):\n",
        "    model.eval()\n",
        "    outputs = [model.validation_step(batch) for batch in test_dl]\n",
        "    return model.validation_epoch_end(outputs)"
      ],
      "metadata": {
        "id": "Z_jt8BMK41ao"
      },
      "execution_count": 16,
      "outputs": []
    },
    {
      "cell_type": "code",
      "source": [
        "def get_lr(optimizer):\n",
        "    for param_group in optimizer.param_groups:\n",
        "        return param_group['lr']\n",
        "\n",
        "def fit (epochs, train_dl, test_dl, model, optimizer, max_lr, weight_decay, scheduler, grad_clip=None):\n",
        "    torch.cuda.empty_cache()\n",
        "    \n",
        "    history = []\n",
        "    \n",
        "    optimizer = optimizer(model.parameters(), max_lr, weight_decay = weight_decay)\n",
        "    \n",
        "    scheduler = scheduler(optimizer, max_lr, epochs=epochs, steps_per_epoch=len(train_dl))\n",
        "    \n",
        "    for epoch in range(epochs):\n",
        "        model.train()\n",
        "        \n",
        "        train_loss = []\n",
        "        \n",
        "        lrs = []\n",
        "        \n",
        "        for batch in train_dl:\n",
        "            loss = model.training_step(batch)\n",
        "            \n",
        "            train_loss.append(loss)\n",
        "            \n",
        "            loss.backward()\n",
        "            \n",
        "            if grad_clip:\n",
        "                nn.utils.clip_grad_value_(model.parameters(), grad_clip)\n",
        "            \n",
        "            optimizer.step()\n",
        "            optimizer.zero_grad()\n",
        "            \n",
        "            scheduler.step()\n",
        "            lrs.append(get_lr(optimizer))\n",
        "        result = evaluate(model, test_dl)\n",
        "        result[\"train_loss\"] = torch.stack(train_loss).mean().item()\n",
        "        result[\"lrs\"] = lrs\n",
        "        \n",
        "        model.epoch_end(epoch,result)\n",
        "        history.append(result)\n",
        "        \n",
        "    return history\n",
        "            "
      ],
      "metadata": {
        "execution": {
          "iopub.status.busy": "2022-02-01T21:59:18.153524Z",
          "iopub.execute_input": "2022-02-01T21:59:18.153954Z",
          "iopub.status.idle": "2022-02-01T21:59:18.164056Z",
          "shell.execute_reply.started": "2022-02-01T21:59:18.153916Z",
          "shell.execute_reply": "2022-02-01T21:59:18.163314Z"
        },
        "trusted": true,
        "id": "eHGXo8jU41ap"
      },
      "execution_count": 17,
      "outputs": []
    },
    {
      "cell_type": "markdown",
      "source": [
        "# Hyperparameters\n",
        "\n",
        "- **max_lr**: is the maximum learning rate that we set for learning rate scheduler. For the learning rate scheduler we used OneCycleLR, which sets the learning rate to a low learning rate, gradually increases it to the max learning rate then goes back to a low learning rate. <br/>\n",
        "- **grad_clip**: prevents the gradients to become too large. <br/>\n",
        "- **weight_decay**: essentially tries to make the model simple and helps the model generalise better.\n"
      ],
      "metadata": {
        "id": "6dPzTqRe41ap"
      }
    },
    {
      "cell_type": "code",
      "source": [
        "epochs = 100\n",
        "optimizer = torch.optim.Adam\n",
        "max_lr = 1e-3\n",
        "grad_clip = 0.1\n",
        "weight_decay = 1e-5\n",
        "scheduler = torch.optim.lr_scheduler.OneCycleLR"
      ],
      "metadata": {
        "execution": {
          "iopub.status.busy": "2022-02-01T21:59:47.387023Z",
          "iopub.execute_input": "2022-02-01T21:59:47.387325Z",
          "iopub.status.idle": "2022-02-01T21:59:47.392406Z",
          "shell.execute_reply.started": "2022-02-01T21:59:47.387294Z",
          "shell.execute_reply": "2022-02-01T21:59:47.391415Z"
        },
        "trusted": true,
        "id": "B7EAUhJl41ap"
      },
      "execution_count": 18,
      "outputs": []
    },
    {
      "cell_type": "markdown",
      "source": [
        "# Training"
      ],
      "metadata": {
        "id": "cFfqCvWe41ap"
      }
    },
    {
      "cell_type": "code",
      "source": [
        "%%time\n",
        "history = fit(epochs=epochs, train_dl=train_dl, test_dl=test_dl, model=model, \n",
        "              optimizer=optimizer, max_lr=max_lr, grad_clip=grad_clip,\n",
        "              weight_decay=weight_decay, scheduler=torch.optim.lr_scheduler.OneCycleLR)"
      ],
      "metadata": {
        "execution": {
          "iopub.status.busy": "2022-02-01T21:59:48.600488Z",
          "iopub.execute_input": "2022-02-01T21:59:48.601031Z",
          "iopub.status.idle": "2022-02-01T23:13:21.045239Z",
          "shell.execute_reply.started": "2022-02-01T21:59:48.600994Z",
          "shell.execute_reply": "2022-02-01T23:13:21.043471Z"
        },
        "trusted": true,
        "colab": {
          "base_uri": "https://localhost:8080/"
        },
        "id": "t0CM-dHu41ap",
        "outputId": "7d598370-7533-464c-989b-a80c0c416332"
      },
      "execution_count": 19,
      "outputs": [
        {
          "output_type": "stream",
          "name": "stdout",
          "text": [
            "Epoch [0], last_lr: 0.00004, train_loss: 3.8992, val_loss: 4.2132, val_acc: 0.0665\n",
            "Epoch [1], last_lr: 0.00005, train_loss: 3.2225, val_loss: 4.0257, val_acc: 0.0999\n",
            "Epoch [2], last_lr: 0.00006, train_loss: 2.9186, val_loss: 3.6380, val_acc: 0.1471\n",
            "Epoch [3], last_lr: 0.00008, train_loss: 2.6730, val_loss: 3.2756, val_acc: 0.2082\n",
            "Epoch [4], last_lr: 0.00010, train_loss: 2.4812, val_loss: 2.9782, val_acc: 0.2543\n",
            "Epoch [5], last_lr: 0.00013, train_loss: 2.3230, val_loss: 2.8127, val_acc: 0.2838\n",
            "Epoch [6], last_lr: 0.00016, train_loss: 2.1928, val_loss: 2.7133, val_acc: 0.3053\n",
            "Epoch [7], last_lr: 0.00020, train_loss: 2.0788, val_loss: 2.5838, val_acc: 0.3378\n",
            "Epoch [8], last_lr: 0.00024, train_loss: 1.9912, val_loss: 2.4822, val_acc: 0.3597\n",
            "Epoch [9], last_lr: 0.00028, train_loss: 1.8937, val_loss: 2.3184, val_acc: 0.3931\n",
            "Epoch [10], last_lr: 0.00032, train_loss: 1.8384, val_loss: 2.3870, val_acc: 0.3778\n",
            "Epoch [11], last_lr: 0.00037, train_loss: 1.7683, val_loss: 2.2909, val_acc: 0.3892\n",
            "Epoch [12], last_lr: 0.00042, train_loss: 1.7193, val_loss: 2.3222, val_acc: 0.3974\n",
            "Epoch [13], last_lr: 0.00047, train_loss: 1.6675, val_loss: 2.2044, val_acc: 0.4212\n",
            "Epoch [14], last_lr: 0.00052, train_loss: 1.6168, val_loss: 2.1737, val_acc: 0.4321\n",
            "Epoch [15], last_lr: 0.00057, train_loss: 1.5822, val_loss: 2.1389, val_acc: 0.4319\n",
            "Epoch [16], last_lr: 0.00062, train_loss: 1.5213, val_loss: 2.2156, val_acc: 0.4160\n",
            "Epoch [17], last_lr: 0.00067, train_loss: 1.4808, val_loss: 2.0148, val_acc: 0.4679\n",
            "Epoch [18], last_lr: 0.00072, train_loss: 1.4170, val_loss: 2.0398, val_acc: 0.4653\n",
            "Epoch [19], last_lr: 0.00076, train_loss: 1.3746, val_loss: 1.9041, val_acc: 0.4846\n",
            "Epoch [20], last_lr: 0.00080, train_loss: 1.3244, val_loss: 1.9644, val_acc: 0.4828\n",
            "Epoch [21], last_lr: 0.00084, train_loss: 1.2707, val_loss: 1.9754, val_acc: 0.4741\n",
            "Epoch [22], last_lr: 0.00088, train_loss: 1.2088, val_loss: 1.7863, val_acc: 0.5183\n",
            "Epoch [23], last_lr: 0.00091, train_loss: 1.1609, val_loss: 1.8124, val_acc: 0.5083\n",
            "Epoch [24], last_lr: 0.00094, train_loss: 1.1034, val_loss: 1.6407, val_acc: 0.5487\n",
            "Epoch [25], last_lr: 0.00096, train_loss: 1.0642, val_loss: 1.5581, val_acc: 0.5755\n",
            "Epoch [26], last_lr: 0.00098, train_loss: 1.0093, val_loss: 1.7254, val_acc: 0.5457\n",
            "Epoch [27], last_lr: 0.00099, train_loss: 0.9574, val_loss: 1.5852, val_acc: 0.5781\n",
            "Epoch [28], last_lr: 0.00100, train_loss: 0.9071, val_loss: 1.4647, val_acc: 0.5976\n",
            "Epoch [29], last_lr: 0.00100, train_loss: 0.8576, val_loss: 1.4669, val_acc: 0.5979\n",
            "Epoch [30], last_lr: 0.00100, train_loss: 0.8237, val_loss: 1.5601, val_acc: 0.5889\n",
            "Epoch [31], last_lr: 0.00100, train_loss: 0.7731, val_loss: 1.4696, val_acc: 0.6069\n",
            "Epoch [32], last_lr: 0.00100, train_loss: 0.7311, val_loss: 1.5026, val_acc: 0.6114\n",
            "Epoch [33], last_lr: 0.00099, train_loss: 0.6943, val_loss: 1.4258, val_acc: 0.6253\n",
            "Epoch [34], last_lr: 0.00099, train_loss: 0.6604, val_loss: 1.4486, val_acc: 0.6282\n",
            "Epoch [35], last_lr: 0.00098, train_loss: 0.6179, val_loss: 1.4551, val_acc: 0.6226\n",
            "Epoch [36], last_lr: 0.00098, train_loss: 0.5786, val_loss: 1.4615, val_acc: 0.6288\n",
            "Epoch [37], last_lr: 0.00097, train_loss: 0.5473, val_loss: 1.4433, val_acc: 0.6397\n",
            "Epoch [38], last_lr: 0.00096, train_loss: 0.5135, val_loss: 1.3944, val_acc: 0.6506\n",
            "Epoch [39], last_lr: 0.00095, train_loss: 0.4834, val_loss: 1.4309, val_acc: 0.6504\n",
            "Epoch [40], last_lr: 0.00094, train_loss: 0.4555, val_loss: 1.4980, val_acc: 0.6314\n",
            "Epoch [41], last_lr: 0.00093, train_loss: 0.4310, val_loss: 1.4862, val_acc: 0.6453\n",
            "Epoch [42], last_lr: 0.00092, train_loss: 0.4014, val_loss: 1.5851, val_acc: 0.6329\n",
            "Epoch [43], last_lr: 0.00090, train_loss: 0.3716, val_loss: 1.5597, val_acc: 0.6475\n",
            "Epoch [44], last_lr: 0.00089, train_loss: 0.3443, val_loss: 1.5387, val_acc: 0.6550\n",
            "Epoch [45], last_lr: 0.00088, train_loss: 0.3421, val_loss: 1.5696, val_acc: 0.6461\n",
            "Epoch [46], last_lr: 0.00086, train_loss: 0.3099, val_loss: 1.5637, val_acc: 0.6536\n",
            "Epoch [47], last_lr: 0.00085, train_loss: 0.2879, val_loss: 1.6671, val_acc: 0.6449\n",
            "Epoch [48], last_lr: 0.00083, train_loss: 0.2733, val_loss: 1.6053, val_acc: 0.6606\n",
            "Epoch [49], last_lr: 0.00081, train_loss: 0.2575, val_loss: 1.6037, val_acc: 0.6595\n",
            "Epoch [50], last_lr: 0.00079, train_loss: 0.2418, val_loss: 1.6089, val_acc: 0.6614\n",
            "Epoch [51], last_lr: 0.00078, train_loss: 0.2287, val_loss: 1.6896, val_acc: 0.6524\n",
            "Epoch [52], last_lr: 0.00076, train_loss: 0.2124, val_loss: 1.7262, val_acc: 0.6592\n",
            "Epoch [53], last_lr: 0.00074, train_loss: 0.1981, val_loss: 1.7181, val_acc: 0.6618\n",
            "Epoch [54], last_lr: 0.00072, train_loss: 0.1930, val_loss: 1.6704, val_acc: 0.6670\n",
            "Epoch [55], last_lr: 0.00070, train_loss: 0.1781, val_loss: 1.6687, val_acc: 0.6684\n",
            "Epoch [56], last_lr: 0.00068, train_loss: 0.1654, val_loss: 1.6983, val_acc: 0.6683\n",
            "Epoch [57], last_lr: 0.00065, train_loss: 0.1607, val_loss: 1.7352, val_acc: 0.6658\n",
            "Epoch [58], last_lr: 0.00063, train_loss: 0.1438, val_loss: 1.7331, val_acc: 0.6677\n",
            "Epoch [59], last_lr: 0.00061, train_loss: 0.1340, val_loss: 1.7173, val_acc: 0.6744\n",
            "Epoch [60], last_lr: 0.00059, train_loss: 0.1219, val_loss: 1.8017, val_acc: 0.6653\n",
            "Epoch [61], last_lr: 0.00057, train_loss: 0.1170, val_loss: 1.8217, val_acc: 0.6681\n",
            "Epoch [62], last_lr: 0.00054, train_loss: 0.1107, val_loss: 1.7556, val_acc: 0.6760\n",
            "Epoch [63], last_lr: 0.00052, train_loss: 0.0959, val_loss: 1.8094, val_acc: 0.6746\n",
            "Epoch [64], last_lr: 0.00050, train_loss: 0.0952, val_loss: 1.7720, val_acc: 0.6794\n",
            "Epoch [65], last_lr: 0.00048, train_loss: 0.0830, val_loss: 1.9028, val_acc: 0.6689\n",
            "Epoch [66], last_lr: 0.00046, train_loss: 0.0786, val_loss: 1.8152, val_acc: 0.6786\n",
            "Epoch [67], last_lr: 0.00043, train_loss: 0.0728, val_loss: 1.8431, val_acc: 0.6808\n",
            "Epoch [68], last_lr: 0.00041, train_loss: 0.0632, val_loss: 1.8224, val_acc: 0.6829\n",
            "Epoch [69], last_lr: 0.00039, train_loss: 0.0626, val_loss: 1.8778, val_acc: 0.6824\n",
            "Epoch [70], last_lr: 0.00037, train_loss: 0.0548, val_loss: 1.8656, val_acc: 0.6842\n",
            "Epoch [71], last_lr: 0.00035, train_loss: 0.0506, val_loss: 1.8893, val_acc: 0.6861\n",
            "Epoch [72], last_lr: 0.00032, train_loss: 0.0486, val_loss: 1.8118, val_acc: 0.6968\n",
            "Epoch [73], last_lr: 0.00030, train_loss: 0.0421, val_loss: 1.8945, val_acc: 0.6945\n",
            "Epoch [74], last_lr: 0.00028, train_loss: 0.0362, val_loss: 1.8822, val_acc: 0.6966\n",
            "Epoch [75], last_lr: 0.00026, train_loss: 0.0340, val_loss: 1.9097, val_acc: 0.6910\n",
            "Epoch [76], last_lr: 0.00024, train_loss: 0.0289, val_loss: 1.9369, val_acc: 0.6917\n",
            "Epoch [77], last_lr: 0.00022, train_loss: 0.0275, val_loss: 1.8962, val_acc: 0.6951\n",
            "Epoch [78], last_lr: 0.00021, train_loss: 0.0241, val_loss: 1.8941, val_acc: 0.6986\n",
            "Epoch [79], last_lr: 0.00019, train_loss: 0.0237, val_loss: 1.9273, val_acc: 0.6945\n",
            "Epoch [80], last_lr: 0.00017, train_loss: 0.0180, val_loss: 1.9549, val_acc: 0.6989\n",
            "Epoch [81], last_lr: 0.00015, train_loss: 0.0160, val_loss: 1.9991, val_acc: 0.6977\n",
            "Epoch [82], last_lr: 0.00014, train_loss: 0.0152, val_loss: 1.9608, val_acc: 0.6992\n",
            "Epoch [83], last_lr: 0.00012, train_loss: 0.0152, val_loss: 1.9342, val_acc: 0.6997\n",
            "Epoch [84], last_lr: 0.00011, train_loss: 0.0125, val_loss: 1.9672, val_acc: 0.7017\n",
            "Epoch [85], last_lr: 0.00010, train_loss: 0.0116, val_loss: 1.9270, val_acc: 0.7007\n",
            "Epoch [86], last_lr: 0.00008, train_loss: 0.0094, val_loss: 1.9460, val_acc: 0.7049\n",
            "Epoch [87], last_lr: 0.00007, train_loss: 0.0082, val_loss: 1.9551, val_acc: 0.7067\n",
            "Epoch [88], last_lr: 0.00006, train_loss: 0.0084, val_loss: 1.9224, val_acc: 0.7071\n",
            "Epoch [89], last_lr: 0.00005, train_loss: 0.0067, val_loss: 1.9523, val_acc: 0.7078\n",
            "Epoch [90], last_lr: 0.00004, train_loss: 0.0066, val_loss: 1.9331, val_acc: 0.7086\n",
            "Epoch [91], last_lr: 0.00003, train_loss: 0.0058, val_loss: 1.9318, val_acc: 0.7089\n",
            "Epoch [92], last_lr: 0.00002, train_loss: 0.0057, val_loss: 1.9436, val_acc: 0.7081\n",
            "Epoch [93], last_lr: 0.00002, train_loss: 0.0054, val_loss: 1.9209, val_acc: 0.7083\n",
            "Epoch [94], last_lr: 0.00001, train_loss: 0.0047, val_loss: 1.9096, val_acc: 0.7090\n",
            "Epoch [95], last_lr: 0.00001, train_loss: 0.0045, val_loss: 1.9407, val_acc: 0.7104\n",
            "Epoch [96], last_lr: 0.00000, train_loss: 0.0043, val_loss: 1.9039, val_acc: 0.7131\n",
            "Epoch [97], last_lr: 0.00000, train_loss: 0.0046, val_loss: 1.9797, val_acc: 0.7100\n",
            "Epoch [98], last_lr: 0.00000, train_loss: 0.0042, val_loss: 1.9418, val_acc: 0.7081\n",
            "Epoch [99], last_lr: 0.00000, train_loss: 0.0040, val_loss: 1.8986, val_acc: 0.7118\n",
            "CPU times: user 1h 2min 49s, sys: 31min 27s, total: 1h 34min 17s\n",
            "Wall time: 1h 40min 17s\n"
          ]
        }
      ]
    },
    {
      "cell_type": "markdown",
      "source": [
        "# Plotting"
      ],
      "metadata": {
        "id": "L7gB6SvV41ap"
      }
    },
    {
      "cell_type": "code",
      "source": [
        "def plot_acc(history):\n",
        "    plt.plot([x[\"val_acc\"] for x in history],\"-x\")\n",
        "    plt.xlabel(\"Epoch\")\n",
        "    plt.ylabel(\"Accuracy\")\n",
        "\n",
        "def plot_loss(history):\n",
        "    plt.plot([x.get(\"train_loss\") for x in history], \"-bx\")\n",
        "    plt.plot([x[\"val_loss\"] for x in history],\"-rx\")\n",
        "    plt.xlabel(\"Epoch\")\n",
        "    plt.ylabel(\"Loss\")\n",
        "    plt.legend([\"train loss\",\"val loss\"])\n",
        "    \n",
        "def plot_lrs(history):\n",
        "    plt.plot(np.concatenate([x.get(\"lrs\",[]) for x in history]))\n",
        "    plt.xlabel(\"Batch number\")\n",
        "    plt.ylabel(\"Learning rate\")"
      ],
      "metadata": {
        "execution": {
          "iopub.status.busy": "2022-02-01T23:13:21.064432Z",
          "iopub.execute_input": "2022-02-01T23:13:21.064922Z",
          "iopub.status.idle": "2022-02-01T23:13:21.073117Z",
          "shell.execute_reply.started": "2022-02-01T23:13:21.064882Z",
          "shell.execute_reply": "2022-02-01T23:13:21.072423Z"
        },
        "trusted": true,
        "id": "SgiHYrFB41ap"
      },
      "execution_count": 20,
      "outputs": []
    },
    {
      "cell_type": "code",
      "source": [
        "plot_loss(history)"
      ],
      "metadata": {
        "execution": {
          "iopub.status.busy": "2022-02-01T23:13:21.074224Z",
          "iopub.execute_input": "2022-02-01T23:13:21.075029Z",
          "iopub.status.idle": "2022-02-01T23:13:21.294632Z",
          "shell.execute_reply.started": "2022-02-01T23:13:21.074985Z",
          "shell.execute_reply": "2022-02-01T23:13:21.293945Z"
        },
        "trusted": true,
        "id": "bihakAaI41ap",
        "colab": {
          "base_uri": "https://localhost:8080/",
          "height": 279
        },
        "outputId": "43d5dd27-4fed-4253-fe65-834659c640ae"
      },
      "execution_count": 21,
      "outputs": [
        {
          "output_type": "display_data",
          "data": {
            "text/plain": [
              "<Figure size 432x288 with 1 Axes>"
            ],
            "image/png": "[encoded data removed]"
          },
          "metadata": {
            "needs_background": "light"
          }
        }
      ]
    },
    {
      "cell_type": "code",
      "source": [
        "plot_acc(history)"
      ],
      "metadata": {
        "execution": {
          "iopub.status.busy": "2022-02-01T23:13:21.298042Z",
          "iopub.execute_input": "2022-02-01T23:13:21.298512Z",
          "iopub.status.idle": "2022-02-01T23:13:21.491877Z",
          "shell.execute_reply.started": "2022-02-01T23:13:21.298474Z",
          "shell.execute_reply": "2022-02-01T23:13:21.491143Z"
        },
        "trusted": true,
        "id": "MutTiwg841ap",
        "colab": {
          "base_uri": "https://localhost:8080/",
          "height": 279
        },
        "outputId": "56413535-332b-44c7-9275-41db9ac05f7f"
      },
      "execution_count": 22,
      "outputs": [
        {
          "output_type": "display_data",
          "data": {
            "text/plain": [
              "<Figure size 432x288 with 1 Axes>"
            ],
            "image/png": "[encoded data removed]"
          },
          "metadata": {
            "needs_background": "light"
          }
        }
      ]
    },
    {
      "cell_type": "code",
      "source": [
        "plot_lrs(history)"
      ],
      "metadata": {
        "execution": {
          "iopub.status.busy": "2022-02-01T23:13:21.493209Z",
          "iopub.execute_input": "2022-02-01T23:13:21.493439Z",
          "iopub.status.idle": "2022-02-01T23:13:21.70808Z",
          "shell.execute_reply.started": "2022-02-01T23:13:21.493407Z",
          "shell.execute_reply": "2022-02-01T23:13:21.707437Z"
        },
        "trusted": true,
        "id": "ANSOE2cV41ap",
        "colab": {
          "base_uri": "https://localhost:8080/",
          "height": 279
        },
        "outputId": "311cd7fa-9d15-4b7d-8b6f-1d0fb3938b5a"
      },
      "execution_count": 23,
      "outputs": [
        {
          "output_type": "display_data",
          "data": {
            "text/plain": [
              "<Figure size 432x288 with 1 Axes>"
            ],
            "image/png": "[encoded data removed]"
          },
          "metadata": {
            "needs_background": "light"
          }
        }
      ]
    },
    {
      "cell_type": "markdown",
      "source": [
        "# Make predictions and see the image with its result\n"
      ],
      "metadata": {
        "id": "nHMwdSRw41aq"
      }
    },
    {
      "cell_type": "code",
      "source": [
        "def predict_image(img, model):\n",
        "    xb = to_device(img.unsqueeze(0), device)\n",
        "    yb = model(xb)\n",
        "    _, preds  = torch.max(yb, dim=1)\n",
        "    return test_data.classes[preds[0].item()]"
      ],
      "metadata": {
        "execution": {
          "iopub.status.busy": "2022-02-01T23:13:57.045003Z",
          "iopub.execute_input": "2022-02-01T23:13:57.045259Z",
          "iopub.status.idle": "2022-02-01T23:13:57.050632Z",
          "shell.execute_reply.started": "2022-02-01T23:13:57.04523Z",
          "shell.execute_reply": "2022-02-01T23:13:57.049521Z"
        },
        "trusted": true,
        "id": "P_flvWAW41aq"
      },
      "execution_count": 24,
      "outputs": []
    },
    {
      "cell_type": "code",
      "source": [
        "img, label = test_data[0]\n",
        "plt.imshow(img.permute(1, 2, 0))\n",
        "print('Label:', test_data.classes[label], ', Predicted:', predict_image(img, model))"
      ],
      "metadata": {
        "execution": {
          "iopub.status.busy": "2022-02-01T23:14:21.857556Z",
          "iopub.execute_input": "2022-02-01T23:14:21.858216Z",
          "iopub.status.idle": "2022-02-01T23:14:22.062848Z",
          "shell.execute_reply.started": "2022-02-01T23:14:21.858181Z",
          "shell.execute_reply": "2022-02-01T23:14:22.062086Z"
        },
        "trusted": true,
        "id": "kor3BMdz41aq",
        "colab": {
          "base_uri": "https://localhost:8080/",
          "height": 302
        },
        "outputId": "a7a39a30-e6ba-4c5e-d97b-12b9006da41b"
      },
      "execution_count": 25,
      "outputs": [
        {
          "output_type": "stream",
          "name": "stderr",
          "text": [
            "WARNING:matplotlib.image:Clipping input data to the valid range for imshow with RGB data ([0..1] for floats or [0..255] for integers).\n"
          ]
        },
        {
          "output_type": "stream",
          "name": "stdout",
          "text": [
            "Label: mountain , Predicted: train\n"
          ]
        },
        {
          "output_type": "display_data",
          "data": {
            "text/plain": [
              "<Figure size 432x288 with 1 Axes>"
            ],
            "image/png": "[encoded data removed]"
          },
          "metadata": {
            "needs_background": "light"
          }
        }
      ]
    },
    {
      "cell_type": "code",
      "source": [
        "img, label = test_data[3]\n",
        "plt.imshow(img.permute(1, 2, 0))\n",
        "print('Label:', test_data.classes[label], ', Predicted:', predict_image(img, model))"
      ],
      "metadata": {
        "execution": {
          "iopub.status.busy": "2022-02-01T23:14:08.957403Z",
          "iopub.execute_input": "2022-02-01T23:14:08.957963Z",
          "iopub.status.idle": "2022-02-01T23:14:09.237243Z",
          "shell.execute_reply.started": "2022-02-01T23:14:08.957918Z",
          "shell.execute_reply": "2022-02-01T23:14:09.236616Z"
        },
        "trusted": true,
        "id": "WHVDH_U441aq",
        "colab": {
          "base_uri": "https://localhost:8080/",
          "height": 302
        },
        "outputId": "8f7da8cf-594f-4d77-84e4-34bf74ed9786"
      },
      "execution_count": 29,
      "outputs": [
        {
          "output_type": "stream",
          "name": "stderr",
          "text": [
            "WARNING:matplotlib.image:Clipping input data to the valid range for imshow with RGB data ([0..1] for floats or [0..255] for integers).\n"
          ]
        },
        {
          "output_type": "stream",
          "name": "stdout",
          "text": [
            "Label: mushroom , Predicted: mushroom\n"
          ]
        },
        {
          "output_type": "display_data",
          "data": {
            "text/plain": [
              "<Figure size 432x288 with 1 Axes>"
            ],
            "image/png": "[encoded data removed]"
          },
          "metadata": {
            "needs_background": "light"
          }
        }
      ]
    }
  ]
}